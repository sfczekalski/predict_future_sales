{
 "cells": [
  {
   "cell_type": "code",
   "execution_count": 1,
   "metadata": {},
   "outputs": [],
   "source": [
    "import pandas as pd\n",
    "import numpy as np\n",
    "import itertools\n",
    "from sklearn.preprocessing import LabelEncoder\n",
    "from sklearn.metrics import mean_squared_error"
   ]
  },
  {
   "cell_type": "markdown",
   "metadata": {},
   "source": [
    "# Read data"
   ]
  },
  {
   "cell_type": "code",
   "execution_count": 2,
   "metadata": {},
   "outputs": [
    {
     "data": {
      "text/html": [
       "<div>\n",
       "<style scoped>\n",
       "    .dataframe tbody tr th:only-of-type {\n",
       "        vertical-align: middle;\n",
       "    }\n",
       "\n",
       "    .dataframe tbody tr th {\n",
       "        vertical-align: top;\n",
       "    }\n",
       "\n",
       "    .dataframe thead th {\n",
       "        text-align: right;\n",
       "    }\n",
       "</style>\n",
       "<table border=\"1\" class=\"dataframe\">\n",
       "  <thead>\n",
       "    <tr style=\"text-align: right;\">\n",
       "      <th></th>\n",
       "      <th>date</th>\n",
       "      <th>date_block_num</th>\n",
       "      <th>shop_id</th>\n",
       "      <th>item_id</th>\n",
       "      <th>item_price</th>\n",
       "      <th>item_cnt_day</th>\n",
       "    </tr>\n",
       "  </thead>\n",
       "  <tbody>\n",
       "    <tr>\n",
       "      <th>0</th>\n",
       "      <td>02.01.2013</td>\n",
       "      <td>0</td>\n",
       "      <td>59</td>\n",
       "      <td>22154</td>\n",
       "      <td>999.00</td>\n",
       "      <td>1.0</td>\n",
       "    </tr>\n",
       "    <tr>\n",
       "      <th>1</th>\n",
       "      <td>03.01.2013</td>\n",
       "      <td>0</td>\n",
       "      <td>25</td>\n",
       "      <td>2552</td>\n",
       "      <td>899.00</td>\n",
       "      <td>1.0</td>\n",
       "    </tr>\n",
       "    <tr>\n",
       "      <th>2</th>\n",
       "      <td>05.01.2013</td>\n",
       "      <td>0</td>\n",
       "      <td>25</td>\n",
       "      <td>2552</td>\n",
       "      <td>899.00</td>\n",
       "      <td>-1.0</td>\n",
       "    </tr>\n",
       "    <tr>\n",
       "      <th>3</th>\n",
       "      <td>06.01.2013</td>\n",
       "      <td>0</td>\n",
       "      <td>25</td>\n",
       "      <td>2554</td>\n",
       "      <td>1709.05</td>\n",
       "      <td>1.0</td>\n",
       "    </tr>\n",
       "    <tr>\n",
       "      <th>4</th>\n",
       "      <td>15.01.2013</td>\n",
       "      <td>0</td>\n",
       "      <td>25</td>\n",
       "      <td>2555</td>\n",
       "      <td>1099.00</td>\n",
       "      <td>1.0</td>\n",
       "    </tr>\n",
       "  </tbody>\n",
       "</table>\n",
       "</div>"
      ],
      "text/plain": [
       "         date  date_block_num  shop_id  item_id  item_price  item_cnt_day\n",
       "0  02.01.2013               0       59    22154      999.00           1.0\n",
       "1  03.01.2013               0       25     2552      899.00           1.0\n",
       "2  05.01.2013               0       25     2552      899.00          -1.0\n",
       "3  06.01.2013               0       25     2554     1709.05           1.0\n",
       "4  15.01.2013               0       25     2555     1099.00           1.0"
      ]
     },
     "execution_count": 2,
     "metadata": {},
     "output_type": "execute_result"
    }
   ],
   "source": [
    "df = pd.read_csv('data/sales_train_v2.csv')\n",
    "df.head()"
   ]
  },
  {
   "cell_type": "markdown",
   "metadata": {},
   "source": [
    "Print dtypes and memory consumption"
   ]
  },
  {
   "cell_type": "code",
   "execution_count": null,
   "metadata": {},
   "outputs": [],
   "source": [
    "df.info()"
   ]
  },
  {
   "cell_type": "markdown",
   "metadata": {},
   "source": [
    "Downcast dtypes to save memory"
   ]
  },
  {
   "cell_type": "code",
   "execution_count": 3,
   "metadata": {},
   "outputs": [],
   "source": [
    "def downcast_dtypes(df):\n",
    "    float_cols = [c for c in df if df[c].dtype == \"float64\"]\n",
    "    int_cols = [c for c in df if df[c].dtype in [\"int64\", \"int32\"]]\n",
    "    df[float_cols] = df[float_cols].astype(np.float32)\n",
    "    df[int_cols] = df[int_cols].astype(np.int16)\n",
    "    return df\n",
    "\n",
    "df = downcast_dtypes(df)\n",
    "#df.info()"
   ]
  },
  {
   "cell_type": "markdown",
   "metadata": {},
   "source": [
    "# Aggregations"
   ]
  },
  {
   "cell_type": "markdown",
   "metadata": {},
   "source": [
    "Sum sales for each (item, shop) pair "
   ]
  },
  {
   "cell_type": "code",
   "execution_count": null,
   "metadata": {},
   "outputs": [],
   "source": [
    "'''grid = []\n",
    "for date_block in df['date_block_num'].unique():\n",
    "    \n",
    "    # cartesian product of shops x items in each month\n",
    "    cur_shops = df[df['date_block_num'] == date_block]['shop_id'].unique()\n",
    "    cur_items = df[df['date_block_num'] == date_block]['item_id'].unique()\n",
    "    grid.append(np.array(list(itertools.product(*[cur_shops, cur_items, [date_block]])),dtype='int32'))'''"
   ]
  },
  {
   "cell_type": "code",
   "execution_count": null,
   "metadata": {},
   "outputs": [],
   "source": [
    "#grid = pd.DataFrame(np.vstack(grid), columns = index_cols,dtype=np.int32)"
   ]
  },
  {
   "cell_type": "code",
   "execution_count": 4,
   "metadata": {},
   "outputs": [],
   "source": [
    "index_cols = ['shop_id', 'item_id', 'date_block_num']"
   ]
  },
  {
   "cell_type": "code",
   "execution_count": 5,
   "metadata": {},
   "outputs": [],
   "source": [
    "df['item_cnt_day'] = df['item_cnt_day'].clip(0,20)\n",
    "gb_cnt = df.groupby(index_cols)['item_cnt_day'].agg(['sum']).reset_index().rename(columns = {'sum': 'item_cnt_month'})\n",
    "gb_cnt['item_cnt_month'] = gb_cnt['item_cnt_month'].clip(0,20).astype(np.int)"
   ]
  },
  {
   "cell_type": "code",
   "execution_count": 6,
   "metadata": {},
   "outputs": [
    {
     "data": {
      "text/html": [
       "<div>\n",
       "<style scoped>\n",
       "    .dataframe tbody tr th:only-of-type {\n",
       "        vertical-align: middle;\n",
       "    }\n",
       "\n",
       "    .dataframe tbody tr th {\n",
       "        vertical-align: top;\n",
       "    }\n",
       "\n",
       "    .dataframe thead th {\n",
       "        text-align: right;\n",
       "    }\n",
       "</style>\n",
       "<table border=\"1\" class=\"dataframe\">\n",
       "  <thead>\n",
       "    <tr style=\"text-align: right;\">\n",
       "      <th></th>\n",
       "      <th>shop_id</th>\n",
       "      <th>item_id</th>\n",
       "      <th>date_block_num</th>\n",
       "      <th>item_cnt_month</th>\n",
       "    </tr>\n",
       "  </thead>\n",
       "  <tbody>\n",
       "    <tr>\n",
       "      <th>0</th>\n",
       "      <td>0</td>\n",
       "      <td>30</td>\n",
       "      <td>1</td>\n",
       "      <td>20</td>\n",
       "    </tr>\n",
       "    <tr>\n",
       "      <th>1</th>\n",
       "      <td>0</td>\n",
       "      <td>31</td>\n",
       "      <td>1</td>\n",
       "      <td>11</td>\n",
       "    </tr>\n",
       "    <tr>\n",
       "      <th>2</th>\n",
       "      <td>0</td>\n",
       "      <td>32</td>\n",
       "      <td>0</td>\n",
       "      <td>6</td>\n",
       "    </tr>\n",
       "    <tr>\n",
       "      <th>3</th>\n",
       "      <td>0</td>\n",
       "      <td>32</td>\n",
       "      <td>1</td>\n",
       "      <td>10</td>\n",
       "    </tr>\n",
       "    <tr>\n",
       "      <th>4</th>\n",
       "      <td>0</td>\n",
       "      <td>33</td>\n",
       "      <td>0</td>\n",
       "      <td>3</td>\n",
       "    </tr>\n",
       "  </tbody>\n",
       "</table>\n",
       "</div>"
      ],
      "text/plain": [
       "   shop_id  item_id  date_block_num  item_cnt_month\n",
       "0        0       30               1              20\n",
       "1        0       31               1              11\n",
       "2        0       32               0               6\n",
       "3        0       32               1              10\n",
       "4        0       33               0               3"
      ]
     },
     "execution_count": 6,
     "metadata": {},
     "output_type": "execute_result"
    }
   ],
   "source": [
    "gb_cnt.head()"
   ]
  },
  {
   "cell_type": "markdown",
   "metadata": {},
   "source": [
    "Join aggregated data to the grid"
   ]
  },
  {
   "cell_type": "code",
   "execution_count": 7,
   "metadata": {},
   "outputs": [],
   "source": [
    "df = pd.merge(df, gb_cnt, how='left', on=index_cols).fillna(0)\n",
    "df['item_cnt_month'] = df['item_cnt_month'].astype(int)\n",
    "df = downcast_dtypes(df)"
   ]
  },
  {
   "cell_type": "markdown",
   "metadata": {},
   "source": [
    "# Combine all data sources"
   ]
  },
  {
   "cell_type": "code",
   "execution_count": 8,
   "metadata": {},
   "outputs": [
    {
     "data": {
      "text/html": [
       "<div>\n",
       "<style scoped>\n",
       "    .dataframe tbody tr th:only-of-type {\n",
       "        vertical-align: middle;\n",
       "    }\n",
       "\n",
       "    .dataframe tbody tr th {\n",
       "        vertical-align: top;\n",
       "    }\n",
       "\n",
       "    .dataframe thead th {\n",
       "        text-align: right;\n",
       "    }\n",
       "</style>\n",
       "<table border=\"1\" class=\"dataframe\">\n",
       "  <thead>\n",
       "    <tr style=\"text-align: right;\">\n",
       "      <th></th>\n",
       "      <th>item_name</th>\n",
       "      <th>item_id</th>\n",
       "      <th>item_category_id</th>\n",
       "    </tr>\n",
       "  </thead>\n",
       "  <tbody>\n",
       "    <tr>\n",
       "      <th>0</th>\n",
       "      <td>! ВО ВЛАСТИ НАВАЖДЕНИЯ (ПЛАСТ.)         D</td>\n",
       "      <td>0</td>\n",
       "      <td>40</td>\n",
       "    </tr>\n",
       "    <tr>\n",
       "      <th>1</th>\n",
       "      <td>!ABBYY FineReader 12 Professional Edition Full...</td>\n",
       "      <td>1</td>\n",
       "      <td>76</td>\n",
       "    </tr>\n",
       "    <tr>\n",
       "      <th>2</th>\n",
       "      <td>***В ЛУЧАХ СЛАВЫ   (UNV)                    D</td>\n",
       "      <td>2</td>\n",
       "      <td>40</td>\n",
       "    </tr>\n",
       "    <tr>\n",
       "      <th>3</th>\n",
       "      <td>***ГОЛУБАЯ ВОЛНА  (Univ)                      D</td>\n",
       "      <td>3</td>\n",
       "      <td>40</td>\n",
       "    </tr>\n",
       "    <tr>\n",
       "      <th>4</th>\n",
       "      <td>***КОРОБКА (СТЕКЛО)                       D</td>\n",
       "      <td>4</td>\n",
       "      <td>40</td>\n",
       "    </tr>\n",
       "  </tbody>\n",
       "</table>\n",
       "</div>"
      ],
      "text/plain": [
       "                                           item_name  item_id  \\\n",
       "0          ! ВО ВЛАСТИ НАВАЖДЕНИЯ (ПЛАСТ.)         D        0   \n",
       "1  !ABBYY FineReader 12 Professional Edition Full...        1   \n",
       "2      ***В ЛУЧАХ СЛАВЫ   (UNV)                    D        2   \n",
       "3    ***ГОЛУБАЯ ВОЛНА  (Univ)                      D        3   \n",
       "4        ***КОРОБКА (СТЕКЛО)                       D        4   \n",
       "\n",
       "   item_category_id  \n",
       "0                40  \n",
       "1                76  \n",
       "2                40  \n",
       "3                40  \n",
       "4                40  "
      ]
     },
     "execution_count": 8,
     "metadata": {},
     "output_type": "execute_result"
    }
   ],
   "source": [
    "items = pd.read_csv('data/items.csv')\n",
    "shops = pd.read_csv('data/shops.csv')\n",
    "items.head()"
   ]
  },
  {
   "cell_type": "markdown",
   "metadata": {},
   "source": [
    "Join items with train set"
   ]
  },
  {
   "cell_type": "code",
   "execution_count": 9,
   "metadata": {},
   "outputs": [
    {
     "data": {
      "text/html": [
       "<div>\n",
       "<style scoped>\n",
       "    .dataframe tbody tr th:only-of-type {\n",
       "        vertical-align: middle;\n",
       "    }\n",
       "\n",
       "    .dataframe tbody tr th {\n",
       "        vertical-align: top;\n",
       "    }\n",
       "\n",
       "    .dataframe thead th {\n",
       "        text-align: right;\n",
       "    }\n",
       "</style>\n",
       "<table border=\"1\" class=\"dataframe\">\n",
       "  <thead>\n",
       "    <tr style=\"text-align: right;\">\n",
       "      <th></th>\n",
       "      <th>date</th>\n",
       "      <th>date_block_num</th>\n",
       "      <th>shop_id</th>\n",
       "      <th>item_id</th>\n",
       "      <th>item_price</th>\n",
       "      <th>item_cnt_day</th>\n",
       "      <th>item_cnt_month</th>\n",
       "      <th>item_category_id</th>\n",
       "    </tr>\n",
       "  </thead>\n",
       "  <tbody>\n",
       "    <tr>\n",
       "      <th>0</th>\n",
       "      <td>02.01.2013</td>\n",
       "      <td>0</td>\n",
       "      <td>59</td>\n",
       "      <td>22154</td>\n",
       "      <td>999.0</td>\n",
       "      <td>1.0</td>\n",
       "      <td>1</td>\n",
       "      <td>37</td>\n",
       "    </tr>\n",
       "    <tr>\n",
       "      <th>1</th>\n",
       "      <td>23.01.2013</td>\n",
       "      <td>0</td>\n",
       "      <td>24</td>\n",
       "      <td>22154</td>\n",
       "      <td>999.0</td>\n",
       "      <td>1.0</td>\n",
       "      <td>1</td>\n",
       "      <td>37</td>\n",
       "    </tr>\n",
       "    <tr>\n",
       "      <th>2</th>\n",
       "      <td>20.01.2013</td>\n",
       "      <td>0</td>\n",
       "      <td>27</td>\n",
       "      <td>22154</td>\n",
       "      <td>999.0</td>\n",
       "      <td>1.0</td>\n",
       "      <td>1</td>\n",
       "      <td>37</td>\n",
       "    </tr>\n",
       "    <tr>\n",
       "      <th>3</th>\n",
       "      <td>02.01.2013</td>\n",
       "      <td>0</td>\n",
       "      <td>25</td>\n",
       "      <td>22154</td>\n",
       "      <td>999.0</td>\n",
       "      <td>1.0</td>\n",
       "      <td>5</td>\n",
       "      <td>37</td>\n",
       "    </tr>\n",
       "    <tr>\n",
       "      <th>4</th>\n",
       "      <td>03.01.2013</td>\n",
       "      <td>0</td>\n",
       "      <td>25</td>\n",
       "      <td>22154</td>\n",
       "      <td>999.0</td>\n",
       "      <td>1.0</td>\n",
       "      <td>5</td>\n",
       "      <td>37</td>\n",
       "    </tr>\n",
       "  </tbody>\n",
       "</table>\n",
       "</div>"
      ],
      "text/plain": [
       "         date  date_block_num  shop_id  item_id  item_price  item_cnt_day  \\\n",
       "0  02.01.2013               0       59    22154       999.0           1.0   \n",
       "1  23.01.2013               0       24    22154       999.0           1.0   \n",
       "2  20.01.2013               0       27    22154       999.0           1.0   \n",
       "3  02.01.2013               0       25    22154       999.0           1.0   \n",
       "4  03.01.2013               0       25    22154       999.0           1.0   \n",
       "\n",
       "   item_cnt_month  item_category_id  \n",
       "0               1                37  \n",
       "1               1                37  \n",
       "2               1                37  \n",
       "3               5                37  \n",
       "4               5                37  "
      ]
     },
     "execution_count": 9,
     "metadata": {},
     "output_type": "execute_result"
    }
   ],
   "source": [
    "df = pd.merge(df, items[['item_id', 'item_category_id']], on = 'item_id')\n",
    "df.head()"
   ]
  },
  {
   "cell_type": "markdown",
   "metadata": {},
   "source": [
    "Join items with test set"
   ]
  },
  {
   "cell_type": "code",
   "execution_count": 10,
   "metadata": {},
   "outputs": [],
   "source": [
    "df_test = pd.read_csv('data/test.csv', delimiter=\",\" ,skiprows=1, usecols = (1,2), dtype=int)\n",
    "df_test = pd.DataFrame(df_test, columns = ['shop_id', 'item_id'])\n",
    "\n",
    "df_test = df_test.merge(items[['item_id', 'item_category_id']], on = 'item_id', how = 'left')\n",
    "df_test['date_block_num'] = 34\n",
    "df_test['item_cnt_month'] = 0"
   ]
  },
  {
   "cell_type": "markdown",
   "metadata": {},
   "source": [
    "Concatenate train and test sets, fix category names"
   ]
  },
  {
   "cell_type": "code",
   "execution_count": 11,
   "metadata": {},
   "outputs": [
    {
     "name": "stderr",
     "output_type": "stream",
     "text": [
      "/home/sfczekalski/anaconda3/lib/python3.7/site-packages/ipykernel_launcher.py:1: FutureWarning: Sorting because non-concatenation axis is not aligned. A future version\n",
      "of pandas will change to not sort by default.\n",
      "\n",
      "To accept the future behavior, pass 'sort=False'.\n",
      "\n",
      "To retain the current behavior and silence the warning, pass 'sort=True'.\n",
      "\n",
      "  \"\"\"Entry point for launching an IPython kernel.\n"
     ]
    },
    {
     "data": {
      "text/html": [
       "<div>\n",
       "<style scoped>\n",
       "    .dataframe tbody tr th:only-of-type {\n",
       "        vertical-align: middle;\n",
       "    }\n",
       "\n",
       "    .dataframe tbody tr th {\n",
       "        vertical-align: top;\n",
       "    }\n",
       "\n",
       "    .dataframe thead th {\n",
       "        text-align: right;\n",
       "    }\n",
       "</style>\n",
       "<table border=\"1\" class=\"dataframe\">\n",
       "  <thead>\n",
       "    <tr style=\"text-align: right;\">\n",
       "      <th></th>\n",
       "      <th>item_category_id</th>\n",
       "      <th>item_category_name</th>\n",
       "    </tr>\n",
       "  </thead>\n",
       "  <tbody>\n",
       "    <tr>\n",
       "      <th>0</th>\n",
       "      <td>14</td>\n",
       "      <td>PC Headsets / Headphones</td>\n",
       "    </tr>\n",
       "    <tr>\n",
       "      <th>1</th>\n",
       "      <td>0</td>\n",
       "      <td>Access</td>\n",
       "    </tr>\n",
       "    <tr>\n",
       "      <th>2</th>\n",
       "      <td>16</td>\n",
       "      <td>Tickets (figure)</td>\n",
       "    </tr>\n",
       "    <tr>\n",
       "      <th>3</th>\n",
       "      <td>8</td>\n",
       "      <td>Delivery of goods</td>\n",
       "    </tr>\n",
       "    <tr>\n",
       "      <th>4</th>\n",
       "      <td>6</td>\n",
       "      <td>Consoles</td>\n",
       "    </tr>\n",
       "  </tbody>\n",
       "</table>\n",
       "</div>"
      ],
      "text/plain": [
       "   item_category_id        item_category_name\n",
       "0                14  PC Headsets / Headphones\n",
       "1                 0                    Access\n",
       "2                16          Tickets (figure)\n",
       "3                 8         Delivery of goods\n",
       "4                 6                  Consoles"
      ]
     },
     "execution_count": 11,
     "metadata": {},
     "output_type": "execute_result"
    }
   ],
   "source": [
    "df_train_test = pd.concat([df, df_test], axis = 0) \n",
    "item_cat = pd.read_csv('data/item_categories.csv')\n",
    "\n",
    "# Fix category\n",
    "categories_list = list(item_cat.item_category_name)\n",
    "for ind in range(0,1):\n",
    "    categories_list[ind] = 'PC Headsets / Headphones'\n",
    "for ind in range(1,8):\n",
    "    categories_list[ind] = 'Access'\n",
    "categories_list[8] = 'Tickets (figure)'\n",
    "categories_list[9] = 'Delivery of goods'\n",
    "for ind in range(10,18):\n",
    "    categories_list[ind] = 'Consoles'\n",
    "for ind in range(18,25):\n",
    "    categories_list[ind] = 'Consoles Games'\n",
    "categories_list[25] = 'Accessories for games'\n",
    "for ind in range(26,28):\n",
    "    categories_list[ind] = 'phone games'\n",
    "for ind in range(28,32):\n",
    "    categories_list[ind] = 'CD games'\n",
    "for ind in range(32,37):\n",
    "    categories_list[ind] = 'Card'\n",
    "for ind in range(37,43):\n",
    "    categories_list[ind] = 'Movie'\n",
    "for ind in range(43,55):\n",
    "    categories_list[ind] = 'Books'\n",
    "for ind in range(55,61):\n",
    "    categories_list[ind] = 'Music'\n",
    "for ind in range(61,73):\n",
    "    categories_list[ind] = 'Gifts'\n",
    "for ind in range(73,79):\n",
    "    categories_list[ind] = 'Soft'\n",
    "for ind in range(79,81):\n",
    "    categories_list[ind] = 'Office'\n",
    "for ind in range(81,83):\n",
    "    categories_list[ind] = 'Clean'\n",
    "categories_list[83] = 'Elements of a food'\n",
    "\n",
    "label_encoder = LabelEncoder()\n",
    "#item_cat['item_category_name_int'] = label_encoder.fit_transform(item_cat['item_category_name'])\n",
    "\n",
    "item_cat['item_category_id_fix'] = label_encoder.fit_transform(categories_list)\n",
    "item_cat['item_category_name_fix'] = categories_list\n",
    "df_train_test = df_train_test.merge(item_cat[['item_category_id', 'item_category_id_fix']], on = 'item_category_id', how = 'left')\n",
    "_ = df_train_test.drop(['item_category_id'],axis=1, inplace=True)\n",
    "df_train_test.rename(columns = {'item_category_id_fix':'item_category_id'}, inplace = True)\n",
    "\n",
    "_ = item_cat.drop(['item_category_id'],axis=1, inplace=True)\n",
    "_ = item_cat.drop(['item_category_name'],axis=1, inplace=True)\n",
    "\n",
    "item_cat.rename(columns = {'item_category_id_fix':'item_category_id'}, inplace = True)\n",
    "item_cat.rename(columns = {'item_category_name_fix':'item_category_name'}, inplace = True)\n",
    "item_cat = item_cat.drop_duplicates()\n",
    "item_cat.index = np.arange(0, len(item_cat))\n",
    "\n",
    "\n",
    "item_cat.head()"
   ]
  },
  {
   "cell_type": "code",
   "execution_count": 12,
   "metadata": {},
   "outputs": [
    {
     "data": {
      "text/html": [
       "<div>\n",
       "<style scoped>\n",
       "    .dataframe tbody tr th:only-of-type {\n",
       "        vertical-align: middle;\n",
       "    }\n",
       "\n",
       "    .dataframe tbody tr th {\n",
       "        vertical-align: top;\n",
       "    }\n",
       "\n",
       "    .dataframe thead th {\n",
       "        text-align: right;\n",
       "    }\n",
       "</style>\n",
       "<table border=\"1\" class=\"dataframe\">\n",
       "  <thead>\n",
       "    <tr style=\"text-align: right;\">\n",
       "      <th></th>\n",
       "      <th>date</th>\n",
       "      <th>date_block_num</th>\n",
       "      <th>item_cnt_day</th>\n",
       "      <th>item_cnt_month</th>\n",
       "      <th>item_id</th>\n",
       "      <th>item_price</th>\n",
       "      <th>shop_id</th>\n",
       "      <th>item_category_id</th>\n",
       "      <th>item_category_name</th>\n",
       "    </tr>\n",
       "  </thead>\n",
       "  <tbody>\n",
       "    <tr>\n",
       "      <th>0</th>\n",
       "      <td>02.01.2013</td>\n",
       "      <td>0</td>\n",
       "      <td>1.0</td>\n",
       "      <td>1</td>\n",
       "      <td>22154.0</td>\n",
       "      <td>999.0</td>\n",
       "      <td>59.0</td>\n",
       "      <td>11.0</td>\n",
       "      <td>Movie</td>\n",
       "    </tr>\n",
       "    <tr>\n",
       "      <th>1</th>\n",
       "      <td>23.01.2013</td>\n",
       "      <td>0</td>\n",
       "      <td>1.0</td>\n",
       "      <td>1</td>\n",
       "      <td>22154.0</td>\n",
       "      <td>999.0</td>\n",
       "      <td>24.0</td>\n",
       "      <td>11.0</td>\n",
       "      <td>Movie</td>\n",
       "    </tr>\n",
       "    <tr>\n",
       "      <th>2</th>\n",
       "      <td>20.01.2013</td>\n",
       "      <td>0</td>\n",
       "      <td>1.0</td>\n",
       "      <td>1</td>\n",
       "      <td>22154.0</td>\n",
       "      <td>999.0</td>\n",
       "      <td>27.0</td>\n",
       "      <td>11.0</td>\n",
       "      <td>Movie</td>\n",
       "    </tr>\n",
       "    <tr>\n",
       "      <th>3</th>\n",
       "      <td>02.01.2013</td>\n",
       "      <td>0</td>\n",
       "      <td>1.0</td>\n",
       "      <td>5</td>\n",
       "      <td>22154.0</td>\n",
       "      <td>999.0</td>\n",
       "      <td>25.0</td>\n",
       "      <td>11.0</td>\n",
       "      <td>Movie</td>\n",
       "    </tr>\n",
       "    <tr>\n",
       "      <th>4</th>\n",
       "      <td>03.01.2013</td>\n",
       "      <td>0</td>\n",
       "      <td>1.0</td>\n",
       "      <td>5</td>\n",
       "      <td>22154.0</td>\n",
       "      <td>999.0</td>\n",
       "      <td>25.0</td>\n",
       "      <td>11.0</td>\n",
       "      <td>Movie</td>\n",
       "    </tr>\n",
       "  </tbody>\n",
       "</table>\n",
       "</div>"
      ],
      "text/plain": [
       "         date  date_block_num  item_cnt_day  item_cnt_month  item_id  \\\n",
       "0  02.01.2013               0           1.0               1  22154.0   \n",
       "1  23.01.2013               0           1.0               1  22154.0   \n",
       "2  20.01.2013               0           1.0               1  22154.0   \n",
       "3  02.01.2013               0           1.0               5  22154.0   \n",
       "4  03.01.2013               0           1.0               5  22154.0   \n",
       "\n",
       "   item_price  shop_id  item_category_id item_category_name  \n",
       "0       999.0     59.0              11.0              Movie  \n",
       "1       999.0     24.0              11.0              Movie  \n",
       "2       999.0     27.0              11.0              Movie  \n",
       "3       999.0     25.0              11.0              Movie  \n",
       "4       999.0     25.0              11.0              Movie  "
      ]
     },
     "execution_count": 12,
     "metadata": {},
     "output_type": "execute_result"
    }
   ],
   "source": [
    "df_train_test = df_train_test.merge(item_cat, on = 'item_category_id', how = 'left')\n",
    "df_train_test['item_category_name'].fillna(value='Other', inplace=True)\n",
    "df_train_test['item_category_id'].fillna(value=-1, inplace=True)\n",
    "df_train_test.head()"
   ]
  },
  {
   "cell_type": "code",
   "execution_count": 13,
   "metadata": {},
   "outputs": [
    {
     "data": {
      "text/html": [
       "<div>\n",
       "<style scoped>\n",
       "    .dataframe tbody tr th:only-of-type {\n",
       "        vertical-align: middle;\n",
       "    }\n",
       "\n",
       "    .dataframe tbody tr th {\n",
       "        vertical-align: top;\n",
       "    }\n",
       "\n",
       "    .dataframe thead th {\n",
       "        text-align: right;\n",
       "    }\n",
       "</style>\n",
       "<table border=\"1\" class=\"dataframe\">\n",
       "  <thead>\n",
       "    <tr style=\"text-align: right;\">\n",
       "      <th></th>\n",
       "      <th>date</th>\n",
       "      <th>date_block_num</th>\n",
       "      <th>item_cnt_day</th>\n",
       "      <th>item_cnt_month</th>\n",
       "      <th>item_id</th>\n",
       "      <th>item_price</th>\n",
       "      <th>shop_id</th>\n",
       "      <th>item_category_id</th>\n",
       "      <th>item_category_name</th>\n",
       "    </tr>\n",
       "  </thead>\n",
       "  <tbody>\n",
       "    <tr>\n",
       "      <th>0</th>\n",
       "      <td>02.01.2013</td>\n",
       "      <td>0</td>\n",
       "      <td>1.0</td>\n",
       "      <td>1</td>\n",
       "      <td>22154</td>\n",
       "      <td>999.0</td>\n",
       "      <td>59</td>\n",
       "      <td>11</td>\n",
       "      <td>Movie</td>\n",
       "    </tr>\n",
       "    <tr>\n",
       "      <th>1</th>\n",
       "      <td>23.01.2013</td>\n",
       "      <td>0</td>\n",
       "      <td>1.0</td>\n",
       "      <td>1</td>\n",
       "      <td>22154</td>\n",
       "      <td>999.0</td>\n",
       "      <td>24</td>\n",
       "      <td>11</td>\n",
       "      <td>Movie</td>\n",
       "    </tr>\n",
       "    <tr>\n",
       "      <th>2</th>\n",
       "      <td>20.01.2013</td>\n",
       "      <td>0</td>\n",
       "      <td>1.0</td>\n",
       "      <td>1</td>\n",
       "      <td>22154</td>\n",
       "      <td>999.0</td>\n",
       "      <td>27</td>\n",
       "      <td>11</td>\n",
       "      <td>Movie</td>\n",
       "    </tr>\n",
       "    <tr>\n",
       "      <th>3</th>\n",
       "      <td>02.01.2013</td>\n",
       "      <td>0</td>\n",
       "      <td>1.0</td>\n",
       "      <td>5</td>\n",
       "      <td>22154</td>\n",
       "      <td>999.0</td>\n",
       "      <td>25</td>\n",
       "      <td>11</td>\n",
       "      <td>Movie</td>\n",
       "    </tr>\n",
       "    <tr>\n",
       "      <th>4</th>\n",
       "      <td>03.01.2013</td>\n",
       "      <td>0</td>\n",
       "      <td>1.0</td>\n",
       "      <td>5</td>\n",
       "      <td>22154</td>\n",
       "      <td>999.0</td>\n",
       "      <td>25</td>\n",
       "      <td>11</td>\n",
       "      <td>Movie</td>\n",
       "    </tr>\n",
       "  </tbody>\n",
       "</table>\n",
       "</div>"
      ],
      "text/plain": [
       "         date  date_block_num  item_cnt_day  item_cnt_month  item_id  \\\n",
       "0  02.01.2013               0           1.0               1    22154   \n",
       "1  23.01.2013               0           1.0               1    22154   \n",
       "2  20.01.2013               0           1.0               1    22154   \n",
       "3  02.01.2013               0           1.0               5    22154   \n",
       "4  03.01.2013               0           1.0               5    22154   \n",
       "\n",
       "   item_price  shop_id  item_category_id item_category_name  \n",
       "0       999.0       59                11              Movie  \n",
       "1       999.0       24                11              Movie  \n",
       "2       999.0       27                11              Movie  \n",
       "3       999.0       25                11              Movie  \n",
       "4       999.0       25                11              Movie  "
      ]
     },
     "execution_count": 13,
     "metadata": {},
     "output_type": "execute_result"
    }
   ],
   "source": [
    "df_train_test['item_cnt_month'] = df_train_test['item_cnt_month'].astype(np.int16)\n",
    "df_train_test['item_id'].fillna(value=-1, inplace=True)\n",
    "df_train_test['item_id'] = df_train_test['item_id'].astype(np.int32)\n",
    "df_train_test['shop_id'].fillna(value=-1, inplace=True)\n",
    "df_train_test['shop_id'] = df_train_test['shop_id'].astype(np.int32)\n",
    "df_train_test['item_category_id'] = df_train_test['item_category_id'].astype(np.int16)\n",
    "df = downcast_dtypes(df_train_test)\n",
    "df.head()"
   ]
  },
  {
   "cell_type": "code",
   "execution_count": null,
   "metadata": {},
   "outputs": [],
   "source": [
    "df.to_feather('df_preprocessed')"
   ]
  },
  {
   "cell_type": "code",
   "execution_count": null,
   "metadata": {},
   "outputs": [],
   "source": [
    "df = pd.read_feather('df_preprocessed')"
   ]
  },
  {
   "cell_type": "markdown",
   "metadata": {},
   "source": [
    "Don't use the oldest data. Split the data into train, validation and test set"
   ]
  },
  {
   "cell_type": "code",
   "execution_count": 14,
   "metadata": {},
   "outputs": [],
   "source": [
    "df = df[df['date_block_num'] >= 12]\n",
    "df_test = df[df['date_block_num'] == 34]\n",
    "df_val = df[df['date_block_num'] == 33]\n",
    "df_train = df[df['date_block_num'] <= 32]"
   ]
  },
  {
   "cell_type": "markdown",
   "metadata": {},
   "source": [
    "Lag features: number of items sold in previous month for shop, item and category"
   ]
  },
  {
   "cell_type": "code",
   "execution_count": 18,
   "metadata": {},
   "outputs": [
    {
     "name": "stdout",
     "output_type": "stream",
     "text": [
      "Grouped by: shop_id\n",
      "   shop_id  date_block_num  item_cnt_month\n",
      "0       -1              34             0.0\n",
      "1        2              12          2927.0\n",
      "2        2              13          3160.0\n",
      "3        2              14          3437.0\n",
      "4        2              15          2528.0\n",
      "Grouped by: item_id\n",
      "   item_id  date_block_num  item_cnt_month\n",
      "0       -1              34               0\n",
      "1        0              20               1\n",
      "2        1              15               4\n",
      "3        1              18               1\n",
      "4        1              19               1\n",
      "Grouped by: item_category_id\n",
      "   item_category_id  date_block_num  item_cnt_month\n",
      "0                -1              34             0.0\n",
      "1                 0              12         19536.0\n",
      "2                 0              13         19203.0\n",
      "3                 0              14         12386.0\n",
      "4                 0              15          6396.0\n"
     ]
    },
    {
     "data": {
      "text/html": [
       "<div>\n",
       "<style scoped>\n",
       "    .dataframe tbody tr th:only-of-type {\n",
       "        vertical-align: middle;\n",
       "    }\n",
       "\n",
       "    .dataframe tbody tr th {\n",
       "        vertical-align: top;\n",
       "    }\n",
       "\n",
       "    .dataframe thead th {\n",
       "        text-align: right;\n",
       "    }\n",
       "</style>\n",
       "<table border=\"1\" class=\"dataframe\">\n",
       "  <thead>\n",
       "    <tr style=\"text-align: right;\">\n",
       "      <th></th>\n",
       "      <th>date</th>\n",
       "      <th>date_block_num</th>\n",
       "      <th>item_cnt_day</th>\n",
       "      <th>item_cnt_month</th>\n",
       "      <th>item_id</th>\n",
       "      <th>item_price</th>\n",
       "      <th>shop_id</th>\n",
       "      <th>item_category_id</th>\n",
       "      <th>item_category_name</th>\n",
       "      <th>shop_id_lag_12</th>\n",
       "      <th>...</th>\n",
       "      <th>item_category_id_lag_12</th>\n",
       "      <th>shop_id_lag_3</th>\n",
       "      <th>item_id_lag_3</th>\n",
       "      <th>item_category_id_lag_3</th>\n",
       "      <th>shop_id_lag_2</th>\n",
       "      <th>item_id_lag_2</th>\n",
       "      <th>item_category_id_lag_2</th>\n",
       "      <th>shop_id_lag_1</th>\n",
       "      <th>item_id_lag_1</th>\n",
       "      <th>item_category_id_lag_1</th>\n",
       "    </tr>\n",
       "  </thead>\n",
       "  <tbody>\n",
       "    <tr>\n",
       "      <th>0</th>\n",
       "      <td>19.07.2015</td>\n",
       "      <td>30</td>\n",
       "      <td>1.0</td>\n",
       "      <td>1</td>\n",
       "      <td>22154</td>\n",
       "      <td>299.0</td>\n",
       "      <td>6</td>\n",
       "      <td>11</td>\n",
       "      <td>Movie</td>\n",
       "      <td>8195.0</td>\n",
       "      <td>...</td>\n",
       "      <td>62340.0</td>\n",
       "      <td>5909.0</td>\n",
       "      <td>0.0</td>\n",
       "      <td>58778.0</td>\n",
       "      <td>4430.0</td>\n",
       "      <td>0.0</td>\n",
       "      <td>42082.0</td>\n",
       "      <td>4913.0</td>\n",
       "      <td>0.0</td>\n",
       "      <td>46974.0</td>\n",
       "    </tr>\n",
       "    <tr>\n",
       "      <th>1</th>\n",
       "      <td>25.07.2015</td>\n",
       "      <td>30</td>\n",
       "      <td>1.0</td>\n",
       "      <td>2</td>\n",
       "      <td>22154</td>\n",
       "      <td>299.0</td>\n",
       "      <td>42</td>\n",
       "      <td>11</td>\n",
       "      <td>Movie</td>\n",
       "      <td>12485.0</td>\n",
       "      <td>...</td>\n",
       "      <td>62340.0</td>\n",
       "      <td>15513.0</td>\n",
       "      <td>0.0</td>\n",
       "      <td>58778.0</td>\n",
       "      <td>12805.0</td>\n",
       "      <td>0.0</td>\n",
       "      <td>42082.0</td>\n",
       "      <td>12902.0</td>\n",
       "      <td>0.0</td>\n",
       "      <td>46974.0</td>\n",
       "    </tr>\n",
       "    <tr>\n",
       "      <th>2</th>\n",
       "      <td>17.07.2015</td>\n",
       "      <td>30</td>\n",
       "      <td>1.0</td>\n",
       "      <td>2</td>\n",
       "      <td>22154</td>\n",
       "      <td>299.0</td>\n",
       "      <td>42</td>\n",
       "      <td>11</td>\n",
       "      <td>Movie</td>\n",
       "      <td>12485.0</td>\n",
       "      <td>...</td>\n",
       "      <td>62340.0</td>\n",
       "      <td>15513.0</td>\n",
       "      <td>0.0</td>\n",
       "      <td>58778.0</td>\n",
       "      <td>12805.0</td>\n",
       "      <td>0.0</td>\n",
       "      <td>42082.0</td>\n",
       "      <td>12902.0</td>\n",
       "      <td>0.0</td>\n",
       "      <td>46974.0</td>\n",
       "    </tr>\n",
       "    <tr>\n",
       "      <th>3</th>\n",
       "      <td>20.07.2015</td>\n",
       "      <td>30</td>\n",
       "      <td>1.0</td>\n",
       "      <td>1</td>\n",
       "      <td>22154</td>\n",
       "      <td>299.0</td>\n",
       "      <td>57</td>\n",
       "      <td>11</td>\n",
       "      <td>Movie</td>\n",
       "      <td>14663.0</td>\n",
       "      <td>...</td>\n",
       "      <td>62340.0</td>\n",
       "      <td>10473.0</td>\n",
       "      <td>0.0</td>\n",
       "      <td>58778.0</td>\n",
       "      <td>7705.0</td>\n",
       "      <td>0.0</td>\n",
       "      <td>42082.0</td>\n",
       "      <td>8593.0</td>\n",
       "      <td>0.0</td>\n",
       "      <td>46974.0</td>\n",
       "    </tr>\n",
       "    <tr>\n",
       "      <th>4</th>\n",
       "      <td>18.07.2015</td>\n",
       "      <td>30</td>\n",
       "      <td>1.0</td>\n",
       "      <td>1</td>\n",
       "      <td>22154</td>\n",
       "      <td>299.0</td>\n",
       "      <td>35</td>\n",
       "      <td>11</td>\n",
       "      <td>Movie</td>\n",
       "      <td>5826.0</td>\n",
       "      <td>...</td>\n",
       "      <td>62340.0</td>\n",
       "      <td>4995.0</td>\n",
       "      <td>0.0</td>\n",
       "      <td>58778.0</td>\n",
       "      <td>4205.0</td>\n",
       "      <td>0.0</td>\n",
       "      <td>42082.0</td>\n",
       "      <td>3821.0</td>\n",
       "      <td>0.0</td>\n",
       "      <td>46974.0</td>\n",
       "    </tr>\n",
       "  </tbody>\n",
       "</table>\n",
       "<p>5 rows × 21 columns</p>\n",
       "</div>"
      ],
      "text/plain": [
       "         date  date_block_num  item_cnt_day  item_cnt_month  item_id  \\\n",
       "0  19.07.2015              30           1.0               1    22154   \n",
       "1  25.07.2015              30           1.0               2    22154   \n",
       "2  17.07.2015              30           1.0               2    22154   \n",
       "3  20.07.2015              30           1.0               1    22154   \n",
       "4  18.07.2015              30           1.0               1    22154   \n",
       "\n",
       "   item_price  shop_id  item_category_id item_category_name  shop_id_lag_12  \\\n",
       "0       299.0        6                11              Movie          8195.0   \n",
       "1       299.0       42                11              Movie         12485.0   \n",
       "2       299.0       42                11              Movie         12485.0   \n",
       "3       299.0       57                11              Movie         14663.0   \n",
       "4       299.0       35                11              Movie          5826.0   \n",
       "\n",
       "   ...  item_category_id_lag_12  shop_id_lag_3  item_id_lag_3  \\\n",
       "0  ...                  62340.0         5909.0            0.0   \n",
       "1  ...                  62340.0        15513.0            0.0   \n",
       "2  ...                  62340.0        15513.0            0.0   \n",
       "3  ...                  62340.0        10473.0            0.0   \n",
       "4  ...                  62340.0         4995.0            0.0   \n",
       "\n",
       "   item_category_id_lag_3  shop_id_lag_2  item_id_lag_2  \\\n",
       "0                 58778.0         4430.0            0.0   \n",
       "1                 58778.0        12805.0            0.0   \n",
       "2                 58778.0        12805.0            0.0   \n",
       "3                 58778.0         7705.0            0.0   \n",
       "4                 58778.0         4205.0            0.0   \n",
       "\n",
       "   item_category_id_lag_2  shop_id_lag_1  item_id_lag_1  \\\n",
       "0                 42082.0         4913.0            0.0   \n",
       "1                 42082.0        12902.0            0.0   \n",
       "2                 42082.0        12902.0            0.0   \n",
       "3                 42082.0         8593.0            0.0   \n",
       "4                 42082.0         3821.0            0.0   \n",
       "\n",
       "   item_category_id_lag_1  \n",
       "0                 46974.0  \n",
       "1                 46974.0  \n",
       "2                 46974.0  \n",
       "3                 46974.0  \n",
       "4                 46974.0  \n",
       "\n",
       "[5 rows x 21 columns]"
      ]
     },
     "execution_count": 18,
     "metadata": {},
     "output_type": "execute_result"
    }
   ],
   "source": [
    "lag_columns = ['shop_id', 'item_id', 'item_category_id']\n",
    "lag = 1\n",
    "\n",
    "for lag_column in lag_columns:\n",
    "\n",
    "    df_lag = df.groupby([lag_column, 'date_block_num'])['item_cnt_month'].sum().reset_index()\n",
    "    \n",
    "    print(f'Grouped by: {lag_column}')\n",
    "    print(df_lag.head())\n",
    "\n",
    "    df['merge_month'] = df['date_block_num'] - lag\n",
    "    df = pd.merge(df, df_lag, how='left', left_on=[lag_column, 'merge_month'], right_on=[lag_column, 'date_block_num']).fillna(0)\n",
    "    df.rename(columns={'item_cnt_month_y': lag_column + '_lag_' + str(lag)}, inplace=True)\n",
    "    df.rename(columns={'item_cnt_month_x': 'item_cnt_month'}, inplace=True)\n",
    "    df.rename(columns={'date_block_num_x': 'date_block_num'}, inplace=True)\n",
    "    df.drop(columns='date_block_num_y', inplace=True)\n",
    "    df.drop(columns='merge_month', inplace=True)\n",
    "\n",
    "\n",
    "df.head()"
   ]
  },
  {
   "cell_type": "markdown",
   "metadata": {},
   "source": [
    "Mean item price from previous month"
   ]
  },
  {
   "cell_type": "code",
   "execution_count": 19,
   "metadata": {},
   "outputs": [],
   "source": [
    "lag = 1\n",
    "\n",
    "df_lag = df.groupby(['item_id', 'date_block_num'])['item_price'].mean()\n",
    "df_lag.head()\n",
    "df['merge_month'] = df['date_block_num'] - lag\n",
    "df = pd.merge(df, df_lag, how='left', left_on=['item_id', 'merge_month'], right_on=['item_id', 'date_block_num']).fillna(0)\n",
    "df.rename(columns={'item_price_y': 'previous_month_price'}, inplace=True)\n",
    "df.rename(columns={'item_price_x': 'item_price'}, inplace=True)\n",
    "df.drop(columns='merge_month', inplace=True)"
   ]
  },
  {
   "cell_type": "code",
   "execution_count": null,
   "metadata": {},
   "outputs": [],
   "source": [
    "df.head()"
   ]
  },
  {
   "cell_type": "markdown",
   "metadata": {},
   "source": [
    "Lag feature: monthly count for (item, shop) pairs"
   ]
  },
  {
   "cell_type": "code",
   "execution_count": 23,
   "metadata": {},
   "outputs": [],
   "source": [
    "lag = 12\n",
    "\n",
    "df_lag = df.groupby(['item_id', 'shop_id', 'date_block_num'])['item_cnt_month'].sum()\n",
    "df['merge_month'] = df['date_block_num'] - lag\n",
    "df = pd.merge(df, df_lag, how='left', left_on=['item_id', 'shop_id', 'merge_month'], right_on=['item_id', 'shop_id', 'date_block_num']).fillna(0)\n",
    "df.rename(columns={'item_cnt_month_y': 'item_shop_lag_' + str(lag)}, inplace=True)\n",
    "df.rename(columns={'item_cnt_month_x': 'item_cnt_month'}, inplace=True)\n",
    "df.drop(columns='merge_month', inplace=True)"
   ]
  },
  {
   "cell_type": "code",
   "execution_count": 25,
   "metadata": {},
   "outputs": [],
   "source": [
    "df.to_csv('df_preprocessed.csv')"
   ]
  },
  {
   "cell_type": "code",
   "execution_count": 63,
   "metadata": {},
   "outputs": [],
   "source": [
    "small_idx = np.random.permutation(range(1882486))[:40000]\n",
    "small_df = df.iloc[small_idx]\n",
    "small_df = small_df.reset_index()\n",
    "valid_idx = small_df[small_df['date_block_num'] == 33].index.values"
   ]
  },
  {
   "cell_type": "code",
   "execution_count": 68,
   "metadata": {},
   "outputs": [],
   "source": [
    "from fastai.tabular import *\n",
    "\n",
    "#df = downcast_dtypes(df)\n",
    "\n",
    "\n",
    "procs=[Categorify, Normalize]\n",
    "\n",
    "cat_vars = ['shop_id', 'item_id', 'item_category_id']\n",
    "cont_vars = ['item_price', 'shop_id_lag_1',\n",
    "            'item_id_lag_1', 'item_category_id_lag_1', 'shop_id_lag_2',\n",
    "            'item_id_lag_2', 'item_category_id_lag_2', 'shop_id_lag_3',\n",
    "            'item_id_lag_3', 'item_category_id_lag_3', 'shop_id_lag_12',\n",
    "            'item_id_lag_12', 'item_category_id_lag_12', 'previous_month_price',\n",
    "            'item_shop_lag_1', 'item_shop_lag_2', 'item_shop_lag_3', 'date_block_num']\n",
    "\n",
    "dep_var = 'item_cnt_month'\n",
    "small_df = small_df[cat_vars + cont_vars + [dep_var]]"
   ]
  },
  {
   "cell_type": "code",
   "execution_count": 69,
   "metadata": {},
   "outputs": [],
   "source": [
    "path = 'data'"
   ]
  },
  {
   "cell_type": "code",
   "execution_count": 70,
   "metadata": {},
   "outputs": [],
   "source": [
    "data = (TabularList.from_df(small_df, path=path, cat_names=cat_vars, cont_names=cont_vars, procs=procs)\n",
    "                .split_by_idx(valid_idx)\n",
    "                .label_from_df(cols=dep_var, label_cls=FloatList)\n",
    "                .databunch())"
   ]
  },
  {
   "cell_type": "code",
   "execution_count": 71,
   "metadata": {},
   "outputs": [],
   "source": [
    "emb_szs= {\n",
    "            'shop_id': 15,\n",
    "            'item_id': 15,\n",
    "            'item_category_id': 10,\n",
    "        }"
   ]
  },
  {
   "cell_type": "code",
   "execution_count": 109,
   "metadata": {},
   "outputs": [],
   "source": [
    "y_range = torch.tensor([0, 20.5], device=defaults.device)"
   ]
  },
  {
   "cell_type": "code",
   "execution_count": 126,
   "metadata": {},
   "outputs": [],
   "source": [
    "learn = tabular_learner(data, layers=[800,400], ps=[0.001,0.01], emb_drop=0.04, y_range=y_range, metrics=rmse)"
   ]
  },
  {
   "cell_type": "code",
   "execution_count": 127,
   "metadata": {},
   "outputs": [
    {
     "data": {
      "text/plain": [
       "TabularModel(\n",
       "  (embeds): ModuleList(\n",
       "    (0): Embedding(56, 15)\n",
       "    (1): Embedding(7099, 230)\n",
       "    (2): Embedding(19, 8)\n",
       "  )\n",
       "  (emb_drop): Dropout(p=0.04, inplace=False)\n",
       "  (bn_cont): BatchNorm1d(18, eps=1e-05, momentum=0.1, affine=True, track_running_stats=True)\n",
       "  (layers): Sequential(\n",
       "    (0): Linear(in_features=271, out_features=800, bias=True)\n",
       "    (1): ReLU(inplace=True)\n",
       "    (2): BatchNorm1d(800, eps=1e-05, momentum=0.1, affine=True, track_running_stats=True)\n",
       "    (3): Dropout(p=0.001, inplace=False)\n",
       "    (4): Linear(in_features=800, out_features=400, bias=True)\n",
       "    (5): ReLU(inplace=True)\n",
       "    (6): BatchNorm1d(400, eps=1e-05, momentum=0.1, affine=True, track_running_stats=True)\n",
       "    (7): Dropout(p=0.01, inplace=False)\n",
       "    (8): Linear(in_features=400, out_features=1, bias=True)\n",
       "  )\n",
       ")"
      ]
     },
     "execution_count": 127,
     "metadata": {},
     "output_type": "execute_result"
    }
   ],
   "source": [
    "learn.model"
   ]
  },
  {
   "cell_type": "code",
   "execution_count": 128,
   "metadata": {},
   "outputs": [
    {
     "data": {
      "text/html": [],
      "text/plain": [
       "<IPython.core.display.HTML object>"
      ]
     },
     "metadata": {},
     "output_type": "display_data"
    },
    {
     "name": "stdout",
     "output_type": "stream",
     "text": [
      "LR Finder is complete, type {learner_name}.recorder.plot() to see the graph.\n"
     ]
    }
   ],
   "source": [
    "learn.lr_find()"
   ]
  },
  {
   "cell_type": "code",
   "execution_count": 129,
   "metadata": {},
   "outputs": [
    {
     "data": {
      "image/png": "[encoded data removed]",
      "text/plain": [
       "<Figure size 432x288 with 1 Axes>"
      ]
     },
     "metadata": {
      "needs_background": "light"
     },
     "output_type": "display_data"
    }
   ],
   "source": [
    "learn.recorder.plot()"
   ]
  },
  {
   "cell_type": "code",
   "execution_count": 131,
   "metadata": {},
   "outputs": [
    {
     "data": {
      "text/html": [
       "<table border=\"1\" class=\"dataframe\">\n",
       "  <thead>\n",
       "    <tr style=\"text-align: left;\">\n",
       "      <th>epoch</th>\n",
       "      <th>train_loss</th>\n",
       "      <th>valid_loss</th>\n",
       "      <th>root_mean_squared_error</th>\n",
       "      <th>time</th>\n",
       "    </tr>\n",
       "  </thead>\n",
       "  <tbody>\n",
       "    <tr>\n",
       "      <td>0</td>\n",
       "      <td>13.353676</td>\n",
       "      <td>20.768213</td>\n",
       "      <td>4.498091</td>\n",
       "      <td>00:32</td>\n",
       "    </tr>\n",
       "    <tr>\n",
       "      <td>1</td>\n",
       "      <td>10.370371</td>\n",
       "      <td>16.369360</td>\n",
       "      <td>4.010324</td>\n",
       "      <td>00:35</td>\n",
       "    </tr>\n",
       "    <tr>\n",
       "      <td>2</td>\n",
       "      <td>7.887416</td>\n",
       "      <td>17.928831</td>\n",
       "      <td>4.184150</td>\n",
       "      <td>00:38</td>\n",
       "    </tr>\n",
       "    <tr>\n",
       "      <td>3</td>\n",
       "      <td>6.418590</td>\n",
       "      <td>18.441664</td>\n",
       "      <td>4.238008</td>\n",
       "      <td>00:34</td>\n",
       "    </tr>\n",
       "    <tr>\n",
       "      <td>4</td>\n",
       "      <td>4.814075</td>\n",
       "      <td>17.716661</td>\n",
       "      <td>4.153220</td>\n",
       "      <td>00:31</td>\n",
       "    </tr>\n",
       "  </tbody>\n",
       "</table>"
      ],
      "text/plain": [
       "<IPython.core.display.HTML object>"
      ]
     },
     "metadata": {},
     "output_type": "display_data"
    }
   ],
   "source": [
    "learn.fit_one_cycle(5, 5e-3, wd=0.2)"
   ]
  },
  {
   "cell_type": "code",
   "execution_count": 115,
   "metadata": {},
   "outputs": [],
   "source": [
    "learn.save('1')"
   ]
  },
  {
   "cell_type": "code",
   "execution_count": 132,
   "metadata": {},
   "outputs": [
    {
     "data": {
      "image/png": "[encoded data removed]",
      "text/plain": [
       "<Figure size 432x288 with 1 Axes>"
      ]
     },
     "metadata": {
      "needs_background": "light"
     },
     "output_type": "display_data"
    }
   ],
   "source": [
    "learn.recorder.plot_losses(skip_start=10)"
   ]
  },
  {
   "cell_type": "code",
   "execution_count": 83,
   "metadata": {},
   "outputs": [],
   "source": [
    "preds = learn.get_preds()[0].numpy()"
   ]
  },
  {
   "cell_type": "code",
   "execution_count": null,
   "metadata": {},
   "outputs": [],
   "source": []
  }
 ],
 "metadata": {
  "kernelspec": {
   "display_name": "Python 3",
   "language": "python",
   "name": "python3"
  },
  "language_info": {
   "codemirror_mode": {
    "name": "ipython",
    "version": 3
   },
   "file_extension": ".py",
   "mimetype": "text/x-python",
   "name": "python",
   "nbconvert_exporter": "python",
   "pygments_lexer": "ipython3",
   "version": "3.7.3"
  }
 },
 "nbformat": 4,
 "nbformat_minor": 2
}
